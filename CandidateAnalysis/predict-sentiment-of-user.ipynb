{
 "cells": [
  {
   "cell_type": "code",
   "execution_count": 7,
   "metadata": {
    "collapsed": true
   },
   "outputs": [],
   "source": [
    "import nltk\n",
    "import pandas as pd\n",
    "import numpy as np\n",
    "from nltk.tokenize import sent_tokenize, word_tokenize\n",
    "import numpy as np # linear algebra\n",
    "import pandas as pd # data processing, CSV file I/O (e.g. pd.read_csv)\n",
    "%matplotlib inline\n",
    "import matplotlib.pyplot as plt\n",
    "import re\n",
    "import seaborn as sns\n",
    "from IPython.display import display\n",
    "pd.options.mode.chained_assignment = None\n",
    "import matplotlib\n",
    "matplotlib.style.use('ggplot')\n"
   ]
  },
  {
   "cell_type": "markdown",
   "metadata": {},
   "source": [
    "#### Enter handler you want to read"
   ]
  },
  {
   "cell_type": "code",
   "execution_count": 55,
   "metadata": {
    "collapsed": false
   },
   "outputs": [
    {
     "name": "stdout",
     "output_type": "stream",
     "text": [
      "sayalidz\n"
     ]
    },
    {
     "data": {
      "text/html": [
       "<div>\n",
       "<table border=\"1\" class=\"dataframe\">\n",
       "  <thead>\n",
       "    <tr style=\"text-align: right;\">\n",
       "      <th></th>\n",
       "      <th>Unnamed: 0</th>\n",
       "      <th>created_at</th>\n",
       "      <th>favorite_count</th>\n",
       "      <th>followers_count</th>\n",
       "      <th>friends_count</th>\n",
       "      <th>retweet_count</th>\n",
       "      <th>screen_name</th>\n",
       "      <th>text</th>\n",
       "    </tr>\n",
       "  </thead>\n",
       "  <tbody>\n",
       "    <tr>\n",
       "      <th>0</th>\n",
       "      <td>0</td>\n",
       "      <td>2016-12-21 19:09:46</td>\n",
       "      <td>0</td>\n",
       "      <td>24</td>\n",
       "      <td>266</td>\n",
       "      <td>9</td>\n",
       "      <td>sayalidz</td>\n",
       "      <td>RT @analyticbridge: When Does Deep Learning Wo...</td>\n",
       "    </tr>\n",
       "    <tr>\n",
       "      <th>1</th>\n",
       "      <td>1</td>\n",
       "      <td>2016-12-17 06:21:32</td>\n",
       "      <td>0</td>\n",
       "      <td>24</td>\n",
       "      <td>266</td>\n",
       "      <td>4</td>\n",
       "      <td>sayalidz</td>\n",
       "      <td>RT @analyticbridge: 49 Machine Learning Resour...</td>\n",
       "    </tr>\n",
       "    <tr>\n",
       "      <th>2</th>\n",
       "      <td>2</td>\n",
       "      <td>2016-12-14 11:54:38</td>\n",
       "      <td>0</td>\n",
       "      <td>24</td>\n",
       "      <td>266</td>\n",
       "      <td>33</td>\n",
       "      <td>sayalidz</td>\n",
       "      <td>RT @KirkDBorne: BIG CheatSheet on #MachineLear...</td>\n",
       "    </tr>\n",
       "    <tr>\n",
       "      <th>3</th>\n",
       "      <td>3</td>\n",
       "      <td>2016-12-10 06:52:35</td>\n",
       "      <td>0</td>\n",
       "      <td>24</td>\n",
       "      <td>266</td>\n",
       "      <td>269</td>\n",
       "      <td>sayalidz</td>\n",
       "      <td>RT @AndrewYNg: Interested in Deep Reinforcemen...</td>\n",
       "    </tr>\n",
       "    <tr>\n",
       "      <th>4</th>\n",
       "      <td>4</td>\n",
       "      <td>2016-12-08 16:38:55</td>\n",
       "      <td>0</td>\n",
       "      <td>24</td>\n",
       "      <td>266</td>\n",
       "      <td>536</td>\n",
       "      <td>sayalidz</td>\n",
       "      <td>RT @pydatasci: The Python Data Science Handboo...</td>\n",
       "    </tr>\n",
       "  </tbody>\n",
       "</table>\n",
       "</div>"
      ],
      "text/plain": [
       "   Unnamed: 0           created_at  favorite_count  followers_count  \\\n",
       "0           0  2016-12-21 19:09:46               0               24   \n",
       "1           1  2016-12-17 06:21:32               0               24   \n",
       "2           2  2016-12-14 11:54:38               0               24   \n",
       "3           3  2016-12-10 06:52:35               0               24   \n",
       "4           4  2016-12-08 16:38:55               0               24   \n",
       "\n",
       "   friends_count  retweet_count screen_name  \\\n",
       "0            266              9    sayalidz   \n",
       "1            266              4    sayalidz   \n",
       "2            266             33    sayalidz   \n",
       "3            266            269    sayalidz   \n",
       "4            266            536    sayalidz   \n",
       "\n",
       "                                                text  \n",
       "0  RT @analyticbridge: When Does Deep Learning Wo...  \n",
       "1  RT @analyticbridge: 49 Machine Learning Resour...  \n",
       "2  RT @KirkDBorne: BIG CheatSheet on #MachineLear...  \n",
       "3  RT @AndrewYNg: Interested in Deep Reinforcemen...  \n",
       "4  RT @pydatasci: The Python Data Science Handboo...  "
      ]
     },
     "execution_count": 55,
     "metadata": {},
     "output_type": "execute_result"
    }
   ],
   "source": [
    "handler = input().strip()\n",
    "tweets = pd.read_csv('%s_tweets.csv' % handler, encoding = \"ISO-8859-1\")\n",
    "tweets.head()"
   ]
  },
  {
   "cell_type": "code",
   "execution_count": 56,
   "metadata": {
    "collapsed": true
   },
   "outputs": [],
   "source": [
    "tweets['created_at'] = pd.to_datetime(tweets['created_at'])"
   ]
  },
  {
   "cell_type": "code",
   "execution_count": 57,
   "metadata": {
    "collapsed": false
   },
   "outputs": [],
   "source": [
    "import re\n",
    "#Preprocessing del RT @blablabla:\n",
    "tweets['text_new'] = ''\n",
    "tweets['tweetos'] = '' \n",
    "\n",
    "#add tweetos first part\n",
    "for i in range(len(tweets['text'])):\n",
    "    try:\n",
    "        tweets['tweetos'][i] = tweets['text'].str.split(':')[i][0]\n",
    "    except AttributeError:    \n",
    "        tweets['tweetos'][i] = 'other'\n",
    "\n",
    "#Preprocessing tweetos. select tweetos contains 'RT @'\n",
    "for i in range(len(tweets['text'])):\n",
    "    if tweets['tweetos'].str.contains('RT @')[i]  == False:\n",
    "        tweets['tweetos'][i] = 'other'\n",
    "\n",
    "#'text_new' is the feature 'text' without the tweetos    \n",
    "for i in range(len(tweets['text'])):\n",
    "    m = re.search('(?<=:)(.*)', tweets['text'][i])\n",
    "    if tweets['text'].str.contains('RT @')[i]  == True:\n",
    "        try:\n",
    "            tweets['text_new'][i]=m.group(0)\n",
    "        except AttributeError:\n",
    "            tweets['text_new'][i]=tweets['text'][i] \n",
    "    else:       \n",
    "        tweets['text_new'][i] =  tweets['text'][i] "
   ]
  },
  {
   "cell_type": "code",
   "execution_count": 62,
   "metadata": {
    "collapsed": false
   },
   "outputs": [],
   "source": [
    "RT = []\n",
    "for t in tweets.text:\n",
    "    RT.append(t.split()[0]=='RT')\n",
    "tweets['RT'] = RT"
   ]
  },
  {
   "cell_type": "code",
   "execution_count": 58,
   "metadata": {
    "collapsed": false
   },
   "outputs": [
    {
     "data": {
      "text/plain": [
       "0    RT @analyticbridge\n",
       "1    RT @analyticbridge\n",
       "2        RT @KirkDBorne\n",
       "3         RT @AndrewYNg\n",
       "4         RT @pydatasci\n",
       "Name: tweetos, dtype: object"
      ]
     },
     "execution_count": 58,
     "metadata": {},
     "output_type": "execute_result"
    }
   ],
   "source": [
    "tweets['tweetos'].head()"
   ]
  },
  {
   "cell_type": "code",
   "execution_count": 59,
   "metadata": {
    "collapsed": false
   },
   "outputs": [
    {
     "data": {
      "text/plain": [
       "0     When Does Deep Learning Work Better Than SVMs...\n",
       "1     49 Machine Learning Resources and Related Art...\n",
       "2     BIG CheatSheet on #MachineLearning #Algorithm...\n",
       "3     Interested in Deep Reinforcement Learning? Gr...\n",
       "4     The Python Data Science Handbook is now avail...\n",
       "Name: text_new, dtype: object"
      ]
     },
     "execution_count": 59,
     "metadata": {},
     "output_type": "execute_result"
    }
   ],
   "source": [
    "tweets['text_new'].head()"
   ]
  },
  {
   "cell_type": "code",
   "execution_count": 63,
   "metadata": {
    "collapsed": false
   },
   "outputs": [
    {
     "data": {
      "text/plain": [
       "Unnamed: 0                  int64\n",
       "created_at         datetime64[ns]\n",
       "favorite_count              int64\n",
       "followers_count             int64\n",
       "friends_count               int64\n",
       "retweet_count               int64\n",
       "screen_name                object\n",
       "text                       object\n",
       "text_new                   object\n",
       "tweetos                    object\n",
       "RT                           bool\n",
       "dtype: object"
      ]
     },
     "execution_count": 63,
     "metadata": {},
     "output_type": "execute_result"
    }
   ],
   "source": [
    "tweets.dtypes"
   ]
  },
  {
   "cell_type": "code",
   "execution_count": 64,
   "metadata": {
    "collapsed": true
   },
   "outputs": [],
   "source": [
    "tweets['nb_words'] = 0\n",
    "for i in range(len(tweets['text'])):\n",
    "    tweets['nb_words'][i] = len(tweets['text'][i].split(' '))"
   ]
  },
  {
   "cell_type": "code",
   "execution_count": 70,
   "metadata": {
    "collapsed": false
   },
   "outputs": [
    {
     "data": {
      "text/plain": [
       "Index(['Unnamed: 0', 'created_at', 'favorite_count', 'followers_count',\n",
       "       'friends_count', 'retweet_count', 'screen_name', 'text', 'text_new',\n",
       "       'tweetos', 'RT', 'nb_words', 'hour', 'date', 'minute'],\n",
       "      dtype='object')"
      ]
     },
     "execution_count": 70,
     "metadata": {},
     "output_type": "execute_result"
    }
   ],
   "source": [
    "tweets['hour'] = pd.DatetimeIndex(tweets['created_at']).hour\n",
    "tweets['date'] = pd.DatetimeIndex(tweets['created_at']).date\n",
    "tweets['minute'] = pd.DatetimeIndex(tweets['created_at']).minute\n",
    "tweets.columns"
   ]
  },
  {
   "cell_type": "markdown",
   "metadata": {},
   "source": [
    "Check at which hour of day user is active ?"
   ]
  },
  {
   "cell_type": "code",
   "execution_count": 71,
   "metadata": {
    "collapsed": false
   },
   "outputs": [
    {
     "data": {
      "text/plain": [
       "<matplotlib.text.Text at 0xc03d198>"
      ]
     },
     "execution_count": 71,
     "metadata": {},
     "output_type": "execute_result"
    },
    {
     "data": {
      "image/png": "[encoded data removed]",
      "text/plain": [
       "<matplotlib.figure.Figure at 0xbe4da58>"
      ]
     },
     "metadata": {},
     "output_type": "display_data"
    }
   ],
   "source": [
    "import seaborn as sns\n",
    "tweets_hour = tweets.groupby(['hour'])['retweet_count'].sum()\n",
    "tweets_hour.transpose().plot(kind='line',figsize=(6.5, 4))\n",
    "plt.legend(bbox_to_anchor=(1.05, 1), loc=2, borderaxespad=0.)\n",
    "plt.title('The number of retweet by hour', bbox={'facecolor':'0.8', 'pad':0})"
   ]
  },
  {
   "cell_type": "code",
   "execution_count": 72,
   "metadata": {
    "collapsed": true
   },
   "outputs": [],
   "source": [
    "def get_stop_words(s, n):\n",
    "\n",
    "    from collections import Counter\n",
    "    l = get_corpus(s)\n",
    "    l = [x for x in Counter(l).most_common(n)]\n",
    "    return l\n",
    "\n",
    "def get_corpus(s):\n",
    "    l = []\n",
    "    s.map(lambda x: l.extend(x))\n",
    "    return l"
   ]
  },
  {
   "cell_type": "code",
   "execution_count": 76,
   "metadata": {
    "collapsed": false
   },
   "outputs": [
    {
     "data": {
      "text/plain": [
       "0    When Does Deep Learning Work Better Than SVMs ...\n",
       "1    Machine Learning Resources and Related Article...\n",
       "2    BIG CheatSheet on  MachineLearning  Algorithms...\n",
       "3    Interested in Deep Reinforcement Learning  Gre...\n",
       "4    The Python Data Science Handbook is now availa...\n",
       "Name: text_lem, dtype: object"
      ]
     },
     "execution_count": 76,
     "metadata": {},
     "output_type": "execute_result"
    }
   ],
   "source": [
    "from sklearn.feature_extraction.text import TfidfVectorizer\n",
    "from nltk.stem import WordNetLemmatizer\n",
    "tweets['text_lem'] = [''.join([WordNetLemmatizer().lemmatize(re.sub('[^A-Za-z]', ' ', line)) for line in lists]).strip() for lists in tweets['text_new']]       \n",
    "#vectorizer = TfidfVectorizer(max_df=0.5,max_features=10000,min_df=10,stop_words='english',use_idf=True)\n",
    "#X = vectorizer.fit_transform(tweets['text_lem'].str.upper())\n",
    "#print(X.shape)\n",
    "tweets.text_lem.head()"
   ]
  },
  {
   "cell_type": "code",
   "execution_count": 79,
   "metadata": {
    "collapsed": false
   },
   "outputs": [
    {
     "data": {
      "text/html": [
       "<div>\n",
       "<table border=\"1\" class=\"dataframe\">\n",
       "  <thead>\n",
       "    <tr style=\"text-align: right;\">\n",
       "      <th></th>\n",
       "      <th>Unnamed: 0</th>\n",
       "      <th>created_at</th>\n",
       "      <th>favorite_count</th>\n",
       "      <th>followers_count</th>\n",
       "      <th>friends_count</th>\n",
       "      <th>retweet_count</th>\n",
       "      <th>screen_name</th>\n",
       "      <th>text</th>\n",
       "      <th>text_new</th>\n",
       "      <th>tweetos</th>\n",
       "      <th>...</th>\n",
       "      <th>nb_words</th>\n",
       "      <th>hour</th>\n",
       "      <th>date</th>\n",
       "      <th>minute</th>\n",
       "      <th>text_lem</th>\n",
       "      <th>sentiment_compound_polarity</th>\n",
       "      <th>sentiment_neutral</th>\n",
       "      <th>sentiment_negative</th>\n",
       "      <th>sentiment_pos</th>\n",
       "      <th>sentiment_type</th>\n",
       "    </tr>\n",
       "  </thead>\n",
       "  <tbody>\n",
       "    <tr>\n",
       "      <th>0</th>\n",
       "      <td>0</td>\n",
       "      <td>2016-12-21 19:09:46</td>\n",
       "      <td>0</td>\n",
       "      <td>24</td>\n",
       "      <td>266</td>\n",
       "      <td>9</td>\n",
       "      <td>sayalidz</td>\n",
       "      <td>RT @analyticbridge: When Does Deep Learning Wo...</td>\n",
       "      <td>When Does Deep Learning Work Better Than SVMs...</td>\n",
       "      <td>RT @analyticbridge</td>\n",
       "      <td>...</td>\n",
       "      <td>14</td>\n",
       "      <td>19</td>\n",
       "      <td>2016-12-21</td>\n",
       "      <td>9</td>\n",
       "      <td>When Does Deep Learning Work Better Than SVMs ...</td>\n",
       "      <td>0.4404</td>\n",
       "      <td>0.828</td>\n",
       "      <td>0.0</td>\n",
       "      <td>0.172</td>\n",
       "      <td>POSITIVE</td>\n",
       "    </tr>\n",
       "    <tr>\n",
       "      <th>1</th>\n",
       "      <td>1</td>\n",
       "      <td>2016-12-17 06:21:32</td>\n",
       "      <td>0</td>\n",
       "      <td>24</td>\n",
       "      <td>266</td>\n",
       "      <td>4</td>\n",
       "      <td>sayalidz</td>\n",
       "      <td>RT @analyticbridge: 49 Machine Learning Resour...</td>\n",
       "      <td>49 Machine Learning Resources and Related Art...</td>\n",
       "      <td>RT @analyticbridge</td>\n",
       "      <td>...</td>\n",
       "      <td>13</td>\n",
       "      <td>6</td>\n",
       "      <td>2016-12-17</td>\n",
       "      <td>21</td>\n",
       "      <td>Machine Learning Resources and Related Article...</td>\n",
       "      <td>0.2023</td>\n",
       "      <td>0.870</td>\n",
       "      <td>0.0</td>\n",
       "      <td>0.130</td>\n",
       "      <td>POSITIVE</td>\n",
       "    </tr>\n",
       "    <tr>\n",
       "      <th>2</th>\n",
       "      <td>2</td>\n",
       "      <td>2016-12-14 11:54:38</td>\n",
       "      <td>0</td>\n",
       "      <td>24</td>\n",
       "      <td>266</td>\n",
       "      <td>33</td>\n",
       "      <td>sayalidz</td>\n",
       "      <td>RT @KirkDBorne: BIG CheatSheet on #MachineLear...</td>\n",
       "      <td>BIG CheatSheet on #MachineLearning #Algorithm...</td>\n",
       "      <td>RT @KirkDBorne</td>\n",
       "      <td>...</td>\n",
       "      <td>17</td>\n",
       "      <td>11</td>\n",
       "      <td>2016-12-14</td>\n",
       "      <td>54</td>\n",
       "      <td>BIG CheatSheet on  MachineLearning  Algorithms...</td>\n",
       "      <td>0.0000</td>\n",
       "      <td>1.000</td>\n",
       "      <td>0.0</td>\n",
       "      <td>0.000</td>\n",
       "      <td>NEUTRAL</td>\n",
       "    </tr>\n",
       "    <tr>\n",
       "      <th>3</th>\n",
       "      <td>3</td>\n",
       "      <td>2016-12-10 06:52:35</td>\n",
       "      <td>0</td>\n",
       "      <td>24</td>\n",
       "      <td>266</td>\n",
       "      <td>269</td>\n",
       "      <td>sayalidz</td>\n",
       "      <td>RT @AndrewYNg: Interested in Deep Reinforcemen...</td>\n",
       "      <td>Interested in Deep Reinforcement Learning? Gr...</td>\n",
       "      <td>RT @AndrewYNg</td>\n",
       "      <td>...</td>\n",
       "      <td>16</td>\n",
       "      <td>6</td>\n",
       "      <td>2016-12-10</td>\n",
       "      <td>52</td>\n",
       "      <td>Interested in Deep Reinforcement Learning  Gre...</td>\n",
       "      <td>0.7783</td>\n",
       "      <td>0.688</td>\n",
       "      <td>0.0</td>\n",
       "      <td>0.312</td>\n",
       "      <td>POSITIVE</td>\n",
       "    </tr>\n",
       "    <tr>\n",
       "      <th>4</th>\n",
       "      <td>4</td>\n",
       "      <td>2016-12-08 16:38:55</td>\n",
       "      <td>0</td>\n",
       "      <td>24</td>\n",
       "      <td>266</td>\n",
       "      <td>536</td>\n",
       "      <td>sayalidz</td>\n",
       "      <td>RT @pydatasci: The Python Data Science Handboo...</td>\n",
       "      <td>The Python Data Science Handbook is now avail...</td>\n",
       "      <td>RT @pydatasci</td>\n",
       "      <td>...</td>\n",
       "      <td>21</td>\n",
       "      <td>16</td>\n",
       "      <td>2016-12-08</td>\n",
       "      <td>38</td>\n",
       "      <td>The Python Data Science Handbook is now availa...</td>\n",
       "      <td>0.0000</td>\n",
       "      <td>1.000</td>\n",
       "      <td>0.0</td>\n",
       "      <td>0.000</td>\n",
       "      <td>NEUTRAL</td>\n",
       "    </tr>\n",
       "  </tbody>\n",
       "</table>\n",
       "<p>5 rows × 21 columns</p>\n",
       "</div>"
      ],
      "text/plain": [
       "   Unnamed: 0          created_at  favorite_count  followers_count  \\\n",
       "0           0 2016-12-21 19:09:46               0               24   \n",
       "1           1 2016-12-17 06:21:32               0               24   \n",
       "2           2 2016-12-14 11:54:38               0               24   \n",
       "3           3 2016-12-10 06:52:35               0               24   \n",
       "4           4 2016-12-08 16:38:55               0               24   \n",
       "\n",
       "   friends_count  retweet_count screen_name  \\\n",
       "0            266              9    sayalidz   \n",
       "1            266              4    sayalidz   \n",
       "2            266             33    sayalidz   \n",
       "3            266            269    sayalidz   \n",
       "4            266            536    sayalidz   \n",
       "\n",
       "                                                text  \\\n",
       "0  RT @analyticbridge: When Does Deep Learning Wo...   \n",
       "1  RT @analyticbridge: 49 Machine Learning Resour...   \n",
       "2  RT @KirkDBorne: BIG CheatSheet on #MachineLear...   \n",
       "3  RT @AndrewYNg: Interested in Deep Reinforcemen...   \n",
       "4  RT @pydatasci: The Python Data Science Handboo...   \n",
       "\n",
       "                                            text_new             tweetos  \\\n",
       "0   When Does Deep Learning Work Better Than SVMs...  RT @analyticbridge   \n",
       "1   49 Machine Learning Resources and Related Art...  RT @analyticbridge   \n",
       "2   BIG CheatSheet on #MachineLearning #Algorithm...      RT @KirkDBorne   \n",
       "3   Interested in Deep Reinforcement Learning? Gr...       RT @AndrewYNg   \n",
       "4   The Python Data Science Handbook is now avail...       RT @pydatasci   \n",
       "\n",
       "        ...       nb_words  hour        date minute  \\\n",
       "0       ...             14    19  2016-12-21      9   \n",
       "1       ...             13     6  2016-12-17     21   \n",
       "2       ...             17    11  2016-12-14     54   \n",
       "3       ...             16     6  2016-12-10     52   \n",
       "4       ...             21    16  2016-12-08     38   \n",
       "\n",
       "                                            text_lem  \\\n",
       "0  When Does Deep Learning Work Better Than SVMs ...   \n",
       "1  Machine Learning Resources and Related Article...   \n",
       "2  BIG CheatSheet on  MachineLearning  Algorithms...   \n",
       "3  Interested in Deep Reinforcement Learning  Gre...   \n",
       "4  The Python Data Science Handbook is now availa...   \n",
       "\n",
       "  sentiment_compound_polarity  sentiment_neutral  sentiment_negative  \\\n",
       "0                      0.4404              0.828                 0.0   \n",
       "1                      0.2023              0.870                 0.0   \n",
       "2                      0.0000              1.000                 0.0   \n",
       "3                      0.7783              0.688                 0.0   \n",
       "4                      0.0000              1.000                 0.0   \n",
       "\n",
       "   sentiment_pos  sentiment_type  \n",
       "0          0.172        POSITIVE  \n",
       "1          0.130        POSITIVE  \n",
       "2          0.000         NEUTRAL  \n",
       "3          0.312        POSITIVE  \n",
       "4          0.000         NEUTRAL  \n",
       "\n",
       "[5 rows x 21 columns]"
      ]
     },
     "execution_count": 79,
     "metadata": {},
     "output_type": "execute_result"
    }
   ],
   "source": [
    "from nltk.sentiment.vader import SentimentIntensityAnalyzer\n",
    "from nltk.sentiment.util import *\n",
    "\n",
    "from nltk import tokenize\n",
    "\n",
    "sid = SentimentIntensityAnalyzer()\n",
    "\n",
    "tweets['sentiment_compound_polarity']=tweets.text_lem.apply(lambda x:sid.polarity_scores(x)['compound'])\n",
    "tweets['sentiment_neutral']=tweets.text_lem.apply(lambda x:sid.polarity_scores(x)['neu'])\n",
    "tweets['sentiment_negative']=tweets.text_lem.apply(lambda x:sid.polarity_scores(x)['neg'])\n",
    "tweets['sentiment_pos']=tweets.text_lem.apply(lambda x:sid.polarity_scores(x)['pos'])\n",
    "tweets['sentiment_type']=''\n",
    "tweets.loc[tweets.sentiment_compound_polarity>0,'sentiment_type']='POSITIVE'\n",
    "tweets.loc[tweets.sentiment_compound_polarity==0,'sentiment_type']='NEUTRAL'\n",
    "tweets.loc[tweets.sentiment_compound_polarity<0,'sentiment_type']='NEGATIVE'\n",
    "tweets.head()"
   ]
  },
  {
   "cell_type": "code",
   "execution_count": 80,
   "metadata": {
    "collapsed": false
   },
   "outputs": [
    {
     "data": {
      "image/png": "[encoded data removed]",
      "text/plain": [
       "<matplotlib.figure.Figure at 0x122a1e48>"
      ]
     },
     "metadata": {},
     "output_type": "display_data"
    }
   ],
   "source": [
    "import matplotlib\n",
    "matplotlib.style.use('ggplot')\n",
    "\n",
    "tweets_sentiment = tweets.groupby(['sentiment_type'])['sentiment_neutral'].count()\n",
    "tweets_sentiment.rename(\"\",inplace=True)\n",
    "explode = (0, 0, 1.0)\n",
    "plt.subplot(221)\n",
    "tweets_sentiment.transpose().plot(kind='barh',figsize=(10, 6))\n",
    "plt.title('Sentiment Analysis 1', bbox={'facecolor':'0.8', 'pad':0})\n",
    "plt.subplot(222)\n",
    "tweets_sentiment.plot(kind='pie',figsize=(10, 6),autopct='%1.1f%%',shadow=True,explode=explode)\n",
    "plt.legend(bbox_to_anchor=(1, 1), loc=3, borderaxespad=0.)\n",
    "plt.title('Sentiment Analysis 2', bbox={'facecolor':'0.8', 'pad':0})\n",
    "plt.show()"
   ]
  }
 ],
 "metadata": {
  "anaconda-cloud": {},
  "kernelspec": {
   "display_name": "Python [conda root]",
   "language": "python",
   "name": "conda-root-py"
  },
  "language_info": {
   "codemirror_mode": {
    "name": "ipython",
    "version": 3
   },
   "file_extension": ".py",
   "mimetype": "text/x-python",
   "name": "python",
   "nbconvert_exporter": "python",
   "pygments_lexer": "ipython3",
   "version": "3.5.2"
  }
 },
 "nbformat": 4,
 "nbformat_minor": 1
}
