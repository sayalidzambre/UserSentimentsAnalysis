{
 "cells": [
  {
   "cell_type": "code",
   "execution_count": 7,
   "metadata": {
    "collapsed": true
   },
   "outputs": [],
   "source": [
    "import nltk\n",
    "import pandas as pd\n",
    "import numpy as np\n",
    "from nltk.tokenize import sent_tokenize, word_tokenize\n",
    "import numpy as np # linear algebra\n",
    "import pandas as pd # data processing, CSV file I/O (e.g. pd.read_csv)\n",
    "%matplotlib inline\n",
    "import matplotlib.pyplot as plt\n",
    "import re\n",
    "import seaborn as sns\n",
    "from IPython.display import display\n",
    "pd.options.mode.chained_assignment = None\n",
    "import matplotlib\n",
    "matplotlib.style.use('ggplot')\n"
   ]
  },
  {
   "cell_type": "markdown",
   "metadata": {},
   "source": [
    "#### Enter handler you want to read"
   ]
  },
  {
   "cell_type": "code",
   "execution_count": 50,
   "metadata": {
    "collapsed": false
   },
   "outputs": [
    {
     "name": "stdout",
     "output_type": "stream",
     "text": [
      "i_ajinkya\n"
     ]
    },
    {
     "data": {
      "text/html": [
       "<div>\n",
       "<table border=\"1\" class=\"dataframe\">\n",
       "  <thead>\n",
       "    <tr style=\"text-align: right;\">\n",
       "      <th></th>\n",
       "      <th>id</th>\n",
       "      <th>created_at</th>\n",
       "      <th>text</th>\n",
       "    </tr>\n",
       "  </thead>\n",
       "  <tbody>\n",
       "    <tr>\n",
       "      <th>0</th>\n",
       "      <td>813256267737153538</td>\n",
       "      <td>2016-12-26 05:32:58</td>\n",
       "      <td>b'@idea_cares connection is suspended, not clo...</td>\n",
       "    </tr>\n",
       "    <tr>\n",
       "      <th>1</th>\n",
       "      <td>812646930430001152</td>\n",
       "      <td>2016-12-24 13:11:41</td>\n",
       "      <td>b'@DoT_India @manojsinhabjp @ideacellular Broa...</td>\n",
       "    </tr>\n",
       "    <tr>\n",
       "      <th>2</th>\n",
       "      <td>812646079053189121</td>\n",
       "      <td>2016-12-24 13:08:18</td>\n",
       "      <td>b'@DoT_India user id 012373020264.'</td>\n",
       "    </tr>\n",
       "    <tr>\n",
       "      <th>3</th>\n",
       "      <td>811978714934349826</td>\n",
       "      <td>2016-12-22 16:56:26</td>\n",
       "      <td>b'@idea_cares Done.'</td>\n",
       "    </tr>\n",
       "    <tr>\n",
       "      <th>4</th>\n",
       "      <td>811976877929861120</td>\n",
       "      <td>2016-12-22 16:49:08</td>\n",
       "      <td>b'@DoT_India @manojsinhabjp @ideacellular #DOT...</td>\n",
       "    </tr>\n",
       "  </tbody>\n",
       "</table>\n",
       "</div>"
      ],
      "text/plain": [
       "                   id           created_at  \\\n",
       "0  813256267737153538  2016-12-26 05:32:58   \n",
       "1  812646930430001152  2016-12-24 13:11:41   \n",
       "2  812646079053189121  2016-12-24 13:08:18   \n",
       "3  811978714934349826  2016-12-22 16:56:26   \n",
       "4  811976877929861120  2016-12-22 16:49:08   \n",
       "\n",
       "                                                text  \n",
       "0  b'@idea_cares connection is suspended, not clo...  \n",
       "1  b'@DoT_India @manojsinhabjp @ideacellular Broa...  \n",
       "2                b'@DoT_India user id 012373020264.'  \n",
       "3                               b'@idea_cares Done.'  \n",
       "4  b'@DoT_India @manojsinhabjp @ideacellular #DOT...  "
      ]
     },
     "execution_count": 50,
     "metadata": {},
     "output_type": "execute_result"
    }
   ],
   "source": [
    "handler = input().strip()\n",
    "tweets = pd.read_csv('%s_tweets.csv' % handler, encoding = \"utf-8\")\n",
    "tweets.head()"
   ]
  },
  {
   "cell_type": "code",
   "execution_count": 51,
   "metadata": {
    "collapsed": false
   },
   "outputs": [
    {
     "data": {
      "text/html": [
       "<div>\n",
       "<table border=\"1\" class=\"dataframe\">\n",
       "  <thead>\n",
       "    <tr style=\"text-align: right;\">\n",
       "      <th></th>\n",
       "      <th>id</th>\n",
       "      <th>created_at</th>\n",
       "      <th>text</th>\n",
       "    </tr>\n",
       "  </thead>\n",
       "  <tbody>\n",
       "    <tr>\n",
       "      <th>0</th>\n",
       "      <td>813256267737153538</td>\n",
       "      <td>2016-12-26 05:32:58</td>\n",
       "      <td>b'@idea_cares connection is suspended, not clo...</td>\n",
       "    </tr>\n",
       "    <tr>\n",
       "      <th>1</th>\n",
       "      <td>812646930430001152</td>\n",
       "      <td>2016-12-24 13:11:41</td>\n",
       "      <td>b'@DoT_India @manojsinhabjp @ideacellular Broa...</td>\n",
       "    </tr>\n",
       "    <tr>\n",
       "      <th>2</th>\n",
       "      <td>812646079053189121</td>\n",
       "      <td>2016-12-24 13:08:18</td>\n",
       "      <td>b'@DoT_India user id 012373020264.'</td>\n",
       "    </tr>\n",
       "    <tr>\n",
       "      <th>3</th>\n",
       "      <td>811978714934349826</td>\n",
       "      <td>2016-12-22 16:56:26</td>\n",
       "      <td>b'@idea_cares Done.'</td>\n",
       "    </tr>\n",
       "    <tr>\n",
       "      <th>4</th>\n",
       "      <td>811976877929861120</td>\n",
       "      <td>2016-12-22 16:49:08</td>\n",
       "      <td>b'@DoT_India @manojsinhabjp @ideacellular #DOT...</td>\n",
       "    </tr>\n",
       "  </tbody>\n",
       "</table>\n",
       "</div>"
      ],
      "text/plain": [
       "                   id           created_at  \\\n",
       "0  813256267737153538  2016-12-26 05:32:58   \n",
       "1  812646930430001152  2016-12-24 13:11:41   \n",
       "2  812646079053189121  2016-12-24 13:08:18   \n",
       "3  811978714934349826  2016-12-22 16:56:26   \n",
       "4  811976877929861120  2016-12-22 16:49:08   \n",
       "\n",
       "                                                text  \n",
       "0  b'@idea_cares connection is suspended, not clo...  \n",
       "1  b'@DoT_India @manojsinhabjp @ideacellular Broa...  \n",
       "2                b'@DoT_India user id 012373020264.'  \n",
       "3                               b'@idea_cares Done.'  \n",
       "4  b'@DoT_India @manojsinhabjp @ideacellular #DOT...  "
      ]
     },
     "execution_count": 51,
     "metadata": {},
     "output_type": "execute_result"
    }
   ],
   "source": [
    "tweets['text'] = tweets['text'].apply(lambda x: str(x))\n",
    "tweets.head()"
   ]
  },
  {
   "cell_type": "code",
   "execution_count": null,
   "metadata": {
    "collapsed": true
   },
   "outputs": [],
   "source": []
  },
  {
   "cell_type": "code",
   "execution_count": null,
   "metadata": {
    "collapsed": true
   },
   "outputs": [],
   "source": []
  },
  {
   "cell_type": "code",
   "execution_count": null,
   "metadata": {
    "collapsed": true
   },
   "outputs": [],
   "source": []
  },
  {
   "cell_type": "code",
   "execution_count": 15,
   "metadata": {
    "collapsed": false
   },
   "outputs": [],
   "source": [
    "import re\n",
    "#Preprocessing del RT @blablabla:\n",
    "tweets['text_new'] = ''\n",
    "tweets['tweetos'] = '' \n",
    "\n",
    "#add tweetos first part\n",
    "for i in range(len(tweets['text'])):\n",
    "    try:\n",
    "        tweets['tweetos'][i] = tweets['text'].str.split(':')[i][0]\n",
    "    except AttributeError:    \n",
    "        tweets['tweetos'][i] = 'other'\n",
    "\n",
    "#Preprocessing tweetos. select tweetos contains 'RT @'\n",
    "for i in range(len(tweets['text'])):\n",
    "    if tweets['tweetos'].str.contains('RT @')[i]  == False:\n",
    "        tweets['tweetos'][i] = 'other'\n",
    "\n",
    "#'text_new' is the feature 'text' without the tweetos    \n",
    "for i in range(len(tweets['text'])):\n",
    "    m = re.search('(?<=:)(.*)', tweets['text'][i])\n",
    "    if tweets['text'].str.contains('RT @')[i]  == True:\n",
    "        try:\n",
    "            tweets['text_new'][i]=m.group(0)\n",
    "        except AttributeError:\n",
    "            tweets['text_new'][i]=tweets['text'][i] \n",
    "    else:       \n",
    "        tweets['text_new'][i] =  tweets['text'][i] "
   ]
  },
  {
   "cell_type": "code",
   "execution_count": 18,
   "metadata": {
    "collapsed": false
   },
   "outputs": [
    {
     "data": {
      "text/plain": [
       "0    b'RT @analyticbridge\n",
       "1    b'RT @analyticbridge\n",
       "2        b'RT @KirkDBorne\n",
       "3         b'RT @AndrewYNg\n",
       "4         b'RT @pydatasci\n",
       "Name: tweetos, dtype: object"
      ]
     },
     "execution_count": 18,
     "metadata": {},
     "output_type": "execute_result"
    }
   ],
   "source": [
    "tweets['tweetos'].head()"
   ]
  },
  {
   "cell_type": "code",
   "execution_count": 17,
   "metadata": {
    "collapsed": false
   },
   "outputs": [
    {
     "data": {
      "text/plain": [
       "0     When Does Deep Learning Work Better Than SVMs...\n",
       "1     49 Machine Learning Resources and Related Art...\n",
       "2     BIG CheatSheet on #MachineLearning #Algorithm...\n",
       "3     Interested in Deep Reinforcement Learning? Gr...\n",
       "4     The Python Data Science Handbook is now avail...\n",
       "Name: text_new, dtype: object"
      ]
     },
     "execution_count": 17,
     "metadata": {},
     "output_type": "execute_result"
    }
   ],
   "source": [
    "tweets['text_new'].head()"
   ]
  }
 ],
 "metadata": {
  "anaconda-cloud": {},
  "kernelspec": {
   "display_name": "Python [conda root]",
   "language": "python",
   "name": "conda-root-py"
  },
  "language_info": {
   "codemirror_mode": {
    "name": "ipython",
    "version": 3
   },
   "file_extension": ".py",
   "mimetype": "text/x-python",
   "name": "python",
   "nbconvert_exporter": "python",
   "pygments_lexer": "ipython3",
   "version": "3.5.2"
  }
 },
 "nbformat": 4,
 "nbformat_minor": 1
}
