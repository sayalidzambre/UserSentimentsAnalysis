{
 "cells": [
  {
   "cell_type": "code",
   "execution_count": 75,
   "metadata": {
    "collapsed": false
   },
   "outputs": [
    {
     "name": "stdout",
     "output_type": "stream",
     "text": [
      "sayalidz\n",
      "getting tweets before 783390486560210943\n",
      "...26 tweets downloaded so far\n",
      "getting tweets before 782650432992731135\n",
      "...26 tweets downloaded so far\n"
     ]
    }
   ],
   "source": [
    "#!/usr/bin/env python\n",
    "# encoding: utf-8\n",
    "\n",
    "import tweepy #https://github.com/tweepy/tweepy\n",
    "import json\n",
    "import csv\n",
    "import pandas as pd\n",
    "\n",
    "#Twitter API credentials\n",
    "consumer_key = \"\"\n",
    "consumer_secret = \"\"\n",
    "access_key = \"\"\n",
    "access_secret = \"\"\n",
    "\n",
    "\n",
    "def get_all_tweets(handler):\n",
    "    #Twitter only allows access to a users most recent 3240 tweets with this method\n",
    "\n",
    "    #authorize twitter, initialize tweepy\n",
    "    auth = tweepy.OAuthHandler(consumer_key, consumer_secret)\n",
    "    auth.set_access_token(access_key, access_secret)\n",
    "    api = tweepy.API(auth)\n",
    "    \n",
    "    #initialize a list to hold all the tweepy Tweets\n",
    "    alltweets = []\n",
    "\n",
    "    #make initial request for most recent tweets (200 is the maximum allowed count)\n",
    "    user = api.get_user(screen_name= handler, count=200)#user_timeline(screen_name = screen_name,count=2000)\n",
    "    new_tweets = user.timeline()\n",
    "\n",
    "    #save most recent tweets\n",
    "    alltweets.extend(new_tweets)\n",
    "\n",
    "    #save the id of the oldest tweet less one\n",
    "    oldest = alltweets[-1].id - 1\n",
    "\n",
    "    #keep grabbing tweets until there are no tweets left to grab\n",
    "    while len(new_tweets) > 0:\n",
    "        print(\"getting tweets before %s\" % (oldest))\n",
    "\n",
    "        #all subsiquent requests use the max_id param to prevent duplicates\n",
    "        new_tweets = api.user_timeline(screen_name = handler ,count=200,max_id=oldest)\n",
    "\n",
    "        #save most recent tweets\n",
    "        alltweets.extend(new_tweets)\n",
    "        #update the id of the oldest tweet less one\n",
    "        oldest = alltweets[-1].id - 1\n",
    "        print(\"...%s tweets downloaded so far\" % (len(alltweets)))\n",
    "        \n",
    "\n",
    "    data = { 'text': [], 'screen_name': [], 'created_at': [],\\\n",
    "            'retweet_count': [], 'favorite_count': [],\n",
    "            'friends_count': [], 'followers_count': []}\n",
    "    for t in alltweets:\n",
    "        data['text'].append(t.text)\n",
    "        data['screen_name'].append(t.user.screen_name)\n",
    "        data['created_at'].append(t.created_at)\n",
    "        data['retweet_count'].append(t.retweet_count)\n",
    "        data['favorite_count'].append(t.favorite_count)\n",
    "        data['friends_count'].append(t.user.friends_count)\n",
    "        data['followers_count'].append(t.user.followers_count)\n",
    "        \n",
    "   \n",
    "    tweets = pd.DataFrame(data)\n",
    "    tweets.to_csv('%s_tweets.csv' % handler)\n",
    "\n",
    "if __name__ == '__main__':\n",
    "    #pass in the username of the account you want to download\n",
    "    #Enter Handler\n",
    "    handler = input().strip()\n",
    "    get_all_tweets(handler)"
   ]
  }
 ],
 "metadata": {
  "anaconda-cloud": {},
  "kernelspec": {
   "display_name": "Python [conda root]",
   "language": "python",
   "name": "conda-root-py"
  },
  "language_info": {
   "codemirror_mode": {
    "name": "ipython",
    "version": 3
   },
   "file_extension": ".py",
   "mimetype": "text/x-python",
   "name": "python",
   "nbconvert_exporter": "python",
   "pygments_lexer": "ipython3",
   "version": "3.5.2"
  }
 },
 "nbformat": 4,
 "nbformat_minor": 1
}
