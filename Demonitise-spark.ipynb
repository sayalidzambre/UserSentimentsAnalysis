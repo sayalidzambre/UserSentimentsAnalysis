{
 "cells": [
  {
   "cell_type": "code",
   "execution_count": null,
   "metadata": {
    "collapsed": true
   },
   "outputs": [],
   "source": [
    "import pandas as pd\n",
    "import numpy as np\n"
   ]
  },
  {
   "cell_type": "code",
   "execution_count": 1,
   "metadata": {
    "collapsed": false
   },
   "outputs": [],
   "source": [
    "import seaborn as sns\n",
    "import numpy as np\n",
    "import pandas as pd\n",
    "import collections #for frequeny counting\n",
    "import findspark\n",
    "findspark.init(\"/home/spjain/spark2/\")\n",
    "\n",
    "import pyspark\n",
    "from pyspark.sql import DataFrameNaFunctions\n",
    "from pyspark.sql.functions import lit #create columns of *literal* value\n",
    "from pyspark.sql.functions import col #Returns columns given on column name\n",
    "from pyspark.ml.feature import StringIndexer #label encoding\n",
    "from pyspark.ml import Pipeline\n",
    "\n",
    "sc = pyspark.SparkContext(appName=\"demonitisation\")"
   ]
  },
  {
   "cell_type": "code",
   "execution_count": 2,
   "metadata": {
    "collapsed": true
   },
   "outputs": [],
   "source": [
    "from wordcloud import WordCloud, STOPWORDS\n",
    "import matplotlib.pyplot as plt\n",
    "import re\n",
    "import seaborn as sns\n",
    "from IPython.display import display\n",
    "pd.options.mode.chained_assignment = None\n",
    "import matplotlib\n",
    "matplotlib.style.use('ggplot')"
   ]
  },
  {
   "cell_type": "code",
   "execution_count": 8,
   "metadata": {
    "collapsed": true
   },
   "outputs": [],
   "source": [
    "from pyspark.sql import SparkSession\n",
    "\n",
    "spark = SparkSession \\\n",
    "    .builder \\\n",
    "    .appName(\"Python Spark SQL basic example\") \\\n",
    "    .config(\"spark.some.config.option\", \"some-value\") \\\n",
    "    .getOrCreate()"
   ]
  },
  {
   "cell_type": "markdown",
   "metadata": {},
   "source": [
    "### Read CSV file"
   ]
  },
  {
   "cell_type": "code",
   "execution_count": 54,
   "metadata": {
    "collapsed": false
   },
   "outputs": [
    {
     "name": "stdout",
     "output_type": "stream",
     "text": [
      "root\n",
      " |-- _c0: string (nullable = true)\n",
      " |-- text: string (nullable = true)\n",
      " |-- favorited: string (nullable = true)\n",
      " |-- favoriteCount: string (nullable = true)\n",
      " |-- replyToSN: string (nullable = true)\n",
      " |-- created: string (nullable = true)\n",
      " |-- truncated: string (nullable = true)\n",
      " |-- replyToSID: string (nullable = true)\n",
      " |-- id: string (nullable = true)\n",
      " |-- replyToUID: string (nullable = true)\n",
      " |-- statusSource: string (nullable = true)\n",
      " |-- screenName: string (nullable = true)\n",
      " |-- retweetCount: string (nullable = true)\n",
      " |-- isRetweet: string (nullable = true)\n",
      " |-- retweeted: string (nullable = true)\n",
      "\n"
     ]
    }
   ],
   "source": [
    "tweets = spark.read.csv('data/demonetization-tweets.csv', encoding = \"ISO-8859-1\", header=\"true\")\n",
    "type(tweets)\n",
    "tweets.printSchema()"
   ]
  },
  {
   "cell_type": "code",
   "execution_count": 55,
   "metadata": {
    "collapsed": true
   },
   "outputs": [],
   "source": [
    "\n",
    "from pyspark.sql.functions import udf\n",
    "from pyspark.sql.types import StringType\n",
    "import re\n",
    "\n",
    "## create user defined function to extract title\n",
    "gettweetos = udf(lambda text: text.split(':')[0].strip() if text.find('RT @') > -1 else 'other', StringType())\n",
    "getnewtext = udf(lambda text: re.search('(?<=:)(.*)', text).group(0) if text.find('RT @') > -1 else 'other', StringType())\n",
    "tweets = tweets.withColumn('tweetos', gettweetos(tweets['text']))\n",
    "tweets = tweets.withColumn('text_new', getnewtext(tweets['text']))\n"
   ]
  },
  {
   "cell_type": "code",
   "execution_count": 56,
   "metadata": {
    "collapsed": false
   },
   "outputs": [
    {
     "name": "stdout",
     "output_type": "stream",
     "text": [
      "+--------------------+-----------------+--------------------+\n",
      "|                text|          tweetos|            text_new|\n",
      "+--------------------+-----------------+--------------------+\n",
      "|RT @rssurjewala: ...|  RT @rssurjewala| Critical questio...|\n",
      "|RT @Hemant_80: Di...|    RT @Hemant_80| Did you vote on ...|\n",
      "|RT @roshankar: Fo...|    RT @roshankar| Former FinSec, R...|\n",
      "|RT @ANI_news: Gur...|     RT @ANI_news| Gurugram (Haryan...|\n",
      "|RT @satishacharya...|RT @satishacharya| Reddy Wedding! @...|\n",
      "+--------------------+-----------------+--------------------+\n",
      "only showing top 5 rows\n",
      "\n"
     ]
    }
   ],
   "source": [
    "tweets.select('text','tweetos', 'text_new').show(5)"
   ]
  },
  {
   "cell_type": "code",
   "execution_count": 44,
   "metadata": {
    "collapsed": false
   },
   "outputs": [
    {
     "data": {
      "text/plain": [
       "0"
      ]
     },
     "execution_count": 44,
     "metadata": {},
     "output_type": "execute_result"
    }
   ],
   "source": []
  },
  {
   "cell_type": "code",
   "execution_count": null,
   "metadata": {
    "collapsed": true
   },
   "outputs": [],
   "source": []
  }
 ],
 "metadata": {
  "kernelspec": {
   "display_name": "Python [Root]",
   "language": "python",
   "name": "Python [Root]"
  },
  "language_info": {
   "codemirror_mode": {
    "name": "ipython",
    "version": 3
   },
   "file_extension": ".py",
   "mimetype": "text/x-python",
   "name": "python",
   "nbconvert_exporter": "python",
   "pygments_lexer": "ipython3",
   "version": "3.5.1"
  }
 },
 "nbformat": 4,
 "nbformat_minor": 0
}
